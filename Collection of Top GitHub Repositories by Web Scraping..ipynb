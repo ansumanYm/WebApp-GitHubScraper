{
 "cells": [
  {
   "cell_type": "markdown",
   "id": "70e7ff93",
   "metadata": {},
   "source": [
    "## OUTLINE:\n",
    "\n",
    "- We'll scrape https://github.com/topics.\n",
    "- We'll inspect the page for HTML tags.\n",
    "- We'll get a list of topics. For each topic, we'll get topic title, topic page URL and topic description.\n",
    "- For each topic, we'll get the top 20 repositories in the topic from the topic page.\n",
    "- For each repository, we'll grab the repo name, username, stars and repo URL.\n",
    "- We will make a Dataframe from these informations.\n"
   ]
  },
  {
   "cell_type": "code",
   "execution_count": 1,
   "id": "be1d2ada",
   "metadata": {},
   "outputs": [
    {
     "name": "stdout",
     "output_type": "stream",
     "text": [
      "Requirement already satisfied: requests in c:\\users\\ansuman nayak\\anaconda3\\lib\\site-packages (2.26.0)\n",
      "Requirement already satisfied: charset-normalizer~=2.0.0 in c:\\users\\ansuman nayak\\anaconda3\\lib\\site-packages (from requests) (2.0.4)\n",
      "Requirement already satisfied: idna<4,>=2.5 in c:\\users\\ansuman nayak\\anaconda3\\lib\\site-packages (from requests) (3.3)\n",
      "Requirement already satisfied: certifi>=2017.4.17 in c:\\users\\ansuman nayak\\anaconda3\\lib\\site-packages (from requests) (2021.10.8)\n",
      "Requirement already satisfied: urllib3<1.27,>=1.21.1 in c:\\users\\ansuman nayak\\anaconda3\\lib\\site-packages (from requests) (1.26.7)\n"
     ]
    }
   ],
   "source": [
    "!pip install requests"
   ]
  },
  {
   "cell_type": "code",
   "execution_count": 1,
   "id": "141c32c1",
   "metadata": {},
   "outputs": [],
   "source": [
    "import requests\n",
    "import pandas as pd\n",
    "from bs4 import BeautifulSoup"
   ]
  },
  {
   "cell_type": "markdown",
   "id": "2c1fee2a",
   "metadata": {},
   "source": [
    "## Getting html of Github Topic page."
   ]
  },
  {
   "cell_type": "code",
   "execution_count": 2,
   "id": "0b7fad94",
   "metadata": {},
   "outputs": [],
   "source": [
    "page_url = \"https://github.com/topics\""
   ]
  },
  {
   "cell_type": "code",
   "execution_count": 3,
   "id": "59a16615",
   "metadata": {},
   "outputs": [],
   "source": [
    "page_html = requests.get(page_url).text"
   ]
  },
  {
   "cell_type": "code",
   "execution_count": 4,
   "id": "d841df8f",
   "metadata": {},
   "outputs": [],
   "source": [
    "soup = BeautifulSoup(page_html, 'html.parser')"
   ]
  },
  {
   "cell_type": "markdown",
   "id": "bdbcdb2a",
   "metadata": {},
   "source": [
    "## Finding out The Topic Titles"
   ]
  },
  {
   "cell_type": "code",
   "execution_count": 5,
   "id": "a306e9d4",
   "metadata": {},
   "outputs": [],
   "source": [
    "topic_title_tags = soup.find_all('p', class_='f3 lh-condensed mb-0 mt-1 Link--primary')"
   ]
  },
  {
   "cell_type": "code",
   "execution_count": 6,
   "id": "29dc1634",
   "metadata": {},
   "outputs": [
    {
     "data": {
      "text/plain": [
       "'3D'"
      ]
     },
     "execution_count": 6,
     "metadata": {},
     "output_type": "execute_result"
    }
   ],
   "source": [
    "topic_title_tags[0].text"
   ]
  },
  {
   "cell_type": "markdown",
   "id": "8f5991f1",
   "metadata": {},
   "source": [
    "## Finding out Topic description"
   ]
  },
  {
   "cell_type": "code",
   "execution_count": 7,
   "id": "746523e8",
   "metadata": {},
   "outputs": [],
   "source": [
    "topic_desc_tags = soup.find_all('p', class_='f5 color-fg-muted mb-0 mt-1')"
   ]
  },
  {
   "cell_type": "markdown",
   "id": "a36b378f",
   "metadata": {},
   "source": [
    "## Print Topic url:"
   ]
  },
  {
   "cell_type": "code",
   "execution_count": 8,
   "id": "b98e8aa5",
   "metadata": {},
   "outputs": [],
   "source": [
    "topic_url_tags = soup.find_all('a', class_='no-underline flex-1 d-flex flex-column')"
   ]
  },
  {
   "cell_type": "code",
   "execution_count": 9,
   "id": "da01d6e5",
   "metadata": {},
   "outputs": [
    {
     "name": "stdout",
     "output_type": "stream",
     "text": [
      "https://github.com/topics/topics/3d\n"
     ]
    }
   ],
   "source": [
    "base_url = 'https://github.com/topics'\n",
    "print(base_url + topic_url_tags[0]['href'])"
   ]
  },
  {
   "cell_type": "markdown",
   "id": "6b1b543a",
   "metadata": {},
   "source": [
    "## Converting Tags into desired Lists."
   ]
  },
  {
   "cell_type": "code",
   "execution_count": 10,
   "id": "883312b7",
   "metadata": {},
   "outputs": [],
   "source": [
    "topic_titles = []\n",
    "for tag in topic_title_tags:\n",
    "    topic_titles.append(tag.text)\n",
    "\n",
    "\n",
    "topic_descs = []\n",
    "for tag in topic_desc_tags:\n",
    "    topic_descs.append(tag.text.strip())\n",
    "    \n",
    "topic_urls = []\n",
    "base_url = 'https://github.com'\n",
    "for tag in topic_url_tags:\n",
    "    topic_urls.append(base_url + tag['href'])\n"
   ]
  },
  {
   "cell_type": "code",
   "execution_count": 11,
   "id": "b21c2edf",
   "metadata": {},
   "outputs": [
    {
     "name": "stdout",
     "output_type": "stream",
     "text": [
      "['https://github.com/topics/3d', 'https://github.com/topics/ajax', 'https://github.com/topics/algorithm', 'https://github.com/topics/amphp', 'https://github.com/topics/android', 'https://github.com/topics/angular', 'https://github.com/topics/ansible', 'https://github.com/topics/api', 'https://github.com/topics/arduino', 'https://github.com/topics/aspnet', 'https://github.com/topics/atom', 'https://github.com/topics/awesome', 'https://github.com/topics/aws', 'https://github.com/topics/azure', 'https://github.com/topics/babel', 'https://github.com/topics/bash', 'https://github.com/topics/bitcoin', 'https://github.com/topics/bootstrap', 'https://github.com/topics/bot', 'https://github.com/topics/c', 'https://github.com/topics/chrome', 'https://github.com/topics/chrome-extension', 'https://github.com/topics/cli', 'https://github.com/topics/clojure', 'https://github.com/topics/code-quality', 'https://github.com/topics/code-review', 'https://github.com/topics/compiler', 'https://github.com/topics/continuous-integration', 'https://github.com/topics/covid-19', 'https://github.com/topics/cpp']\n",
      "['3D', 'Ajax', 'Algorithm', 'Amp', 'Android', 'Angular', 'Ansible', 'API', 'Arduino', 'ASP.NET', 'Atom', 'Awesome Lists', 'Amazon Web Services', 'Azure', 'Babel', 'Bash', 'Bitcoin', 'Bootstrap', 'Bot', 'C', 'Chrome', 'Chrome extension', 'Command line interface', 'Clojure', 'Code quality', 'Code review', 'Compiler', 'Continuous integration', 'COVID-19', 'C++']\n"
     ]
    }
   ],
   "source": [
    "print(topic_urls)   \n",
    "print(topic_titles)"
   ]
  },
  {
   "cell_type": "code",
   "execution_count": 12,
   "id": "25c66592",
   "metadata": {},
   "outputs": [
    {
     "data": {
      "text/plain": [
       "['3D modeling is the process of virtually developing the surface and structure of a 3D object.',\n",
       " 'Ajax is a technique for creating interactive web applications.',\n",
       " 'Algorithms are self-contained sequences that carry out a variety of tasks.',\n",
       " 'Amp is a non-blocking concurrency library for PHP.',\n",
       " 'Android is an operating system built by Google designed for mobile devices.']"
      ]
     },
     "execution_count": 12,
     "metadata": {},
     "output_type": "execute_result"
    }
   ],
   "source": [
    "topic_descs[:5]"
   ]
  },
  {
   "cell_type": "markdown",
   "id": "8ea1fb57",
   "metadata": {},
   "source": [
    "## Making a Dataframe for Title, Desc and Link"
   ]
  },
  {
   "cell_type": "code",
   "execution_count": 13,
   "id": "5656bf7a",
   "metadata": {},
   "outputs": [],
   "source": [
    "topics_dict = {\n",
    "    'title': topic_titles,\n",
    "    'description': topic_descs,\n",
    "    'url': topic_urls\n",
    "}"
   ]
  },
  {
   "cell_type": "code",
   "execution_count": 14,
   "id": "3cd6c846",
   "metadata": {},
   "outputs": [],
   "source": [
    "topics_df = pd.DataFrame(topics_dict)"
   ]
  },
  {
   "cell_type": "markdown",
   "id": "304727b7",
   "metadata": {},
   "source": [
    "# DataFrame with Topic Titles, Description and url."
   ]
  },
  {
   "cell_type": "code",
   "execution_count": 15,
   "id": "19717be5",
   "metadata": {},
   "outputs": [
    {
     "data": {
      "text/html": [
       "<div>\n",
       "<style scoped>\n",
       "    .dataframe tbody tr th:only-of-type {\n",
       "        vertical-align: middle;\n",
       "    }\n",
       "\n",
       "    .dataframe tbody tr th {\n",
       "        vertical-align: top;\n",
       "    }\n",
       "\n",
       "    .dataframe thead th {\n",
       "        text-align: right;\n",
       "    }\n",
       "</style>\n",
       "<table border=\"1\" class=\"dataframe\">\n",
       "  <thead>\n",
       "    <tr style=\"text-align: right;\">\n",
       "      <th></th>\n",
       "      <th>title</th>\n",
       "      <th>description</th>\n",
       "      <th>url</th>\n",
       "    </tr>\n",
       "  </thead>\n",
       "  <tbody>\n",
       "    <tr>\n",
       "      <th>0</th>\n",
       "      <td>3D</td>\n",
       "      <td>3D modeling is the process of virtually develo...</td>\n",
       "      <td>https://github.com/topics/3d</td>\n",
       "    </tr>\n",
       "    <tr>\n",
       "      <th>1</th>\n",
       "      <td>Ajax</td>\n",
       "      <td>Ajax is a technique for creating interactive w...</td>\n",
       "      <td>https://github.com/topics/ajax</td>\n",
       "    </tr>\n",
       "    <tr>\n",
       "      <th>2</th>\n",
       "      <td>Algorithm</td>\n",
       "      <td>Algorithms are self-contained sequences that c...</td>\n",
       "      <td>https://github.com/topics/algorithm</td>\n",
       "    </tr>\n",
       "    <tr>\n",
       "      <th>3</th>\n",
       "      <td>Amp</td>\n",
       "      <td>Amp is a non-blocking concurrency library for ...</td>\n",
       "      <td>https://github.com/topics/amphp</td>\n",
       "    </tr>\n",
       "    <tr>\n",
       "      <th>4</th>\n",
       "      <td>Android</td>\n",
       "      <td>Android is an operating system built by Google...</td>\n",
       "      <td>https://github.com/topics/android</td>\n",
       "    </tr>\n",
       "    <tr>\n",
       "      <th>5</th>\n",
       "      <td>Angular</td>\n",
       "      <td>Angular is an open source web application plat...</td>\n",
       "      <td>https://github.com/topics/angular</td>\n",
       "    </tr>\n",
       "    <tr>\n",
       "      <th>6</th>\n",
       "      <td>Ansible</td>\n",
       "      <td>Ansible is a simple and powerful automation en...</td>\n",
       "      <td>https://github.com/topics/ansible</td>\n",
       "    </tr>\n",
       "    <tr>\n",
       "      <th>7</th>\n",
       "      <td>API</td>\n",
       "      <td>An API (Application Programming Interface) is ...</td>\n",
       "      <td>https://github.com/topics/api</td>\n",
       "    </tr>\n",
       "    <tr>\n",
       "      <th>8</th>\n",
       "      <td>Arduino</td>\n",
       "      <td>Arduino is an open source hardware and softwar...</td>\n",
       "      <td>https://github.com/topics/arduino</td>\n",
       "    </tr>\n",
       "    <tr>\n",
       "      <th>9</th>\n",
       "      <td>ASP.NET</td>\n",
       "      <td>ASP.NET is a web framework for building modern...</td>\n",
       "      <td>https://github.com/topics/aspnet</td>\n",
       "    </tr>\n",
       "    <tr>\n",
       "      <th>10</th>\n",
       "      <td>Atom</td>\n",
       "      <td>Atom is a open source text editor built with w...</td>\n",
       "      <td>https://github.com/topics/atom</td>\n",
       "    </tr>\n",
       "    <tr>\n",
       "      <th>11</th>\n",
       "      <td>Awesome Lists</td>\n",
       "      <td>An awesome list is a list of awesome things cu...</td>\n",
       "      <td>https://github.com/topics/awesome</td>\n",
       "    </tr>\n",
       "    <tr>\n",
       "      <th>12</th>\n",
       "      <td>Amazon Web Services</td>\n",
       "      <td>Amazon Web Services provides on-demand cloud c...</td>\n",
       "      <td>https://github.com/topics/aws</td>\n",
       "    </tr>\n",
       "    <tr>\n",
       "      <th>13</th>\n",
       "      <td>Azure</td>\n",
       "      <td>Azure is a cloud computing service created by ...</td>\n",
       "      <td>https://github.com/topics/azure</td>\n",
       "    </tr>\n",
       "    <tr>\n",
       "      <th>14</th>\n",
       "      <td>Babel</td>\n",
       "      <td>Babel is a compiler for writing next generatio...</td>\n",
       "      <td>https://github.com/topics/babel</td>\n",
       "    </tr>\n",
       "    <tr>\n",
       "      <th>15</th>\n",
       "      <td>Bash</td>\n",
       "      <td>Bash is a shell and command language interpret...</td>\n",
       "      <td>https://github.com/topics/bash</td>\n",
       "    </tr>\n",
       "    <tr>\n",
       "      <th>16</th>\n",
       "      <td>Bitcoin</td>\n",
       "      <td>Bitcoin is a cryptocurrency developed by Satos...</td>\n",
       "      <td>https://github.com/topics/bitcoin</td>\n",
       "    </tr>\n",
       "    <tr>\n",
       "      <th>17</th>\n",
       "      <td>Bootstrap</td>\n",
       "      <td>Bootstrap is an HTML, CSS, and JavaScript fram...</td>\n",
       "      <td>https://github.com/topics/bootstrap</td>\n",
       "    </tr>\n",
       "    <tr>\n",
       "      <th>18</th>\n",
       "      <td>Bot</td>\n",
       "      <td>A bot is an application that runs automated ta...</td>\n",
       "      <td>https://github.com/topics/bot</td>\n",
       "    </tr>\n",
       "    <tr>\n",
       "      <th>19</th>\n",
       "      <td>C</td>\n",
       "      <td>C is a general purpose programming language th...</td>\n",
       "      <td>https://github.com/topics/c</td>\n",
       "    </tr>\n",
       "    <tr>\n",
       "      <th>20</th>\n",
       "      <td>Chrome</td>\n",
       "      <td>Chrome is a web browser from the tech company ...</td>\n",
       "      <td>https://github.com/topics/chrome</td>\n",
       "    </tr>\n",
       "    <tr>\n",
       "      <th>21</th>\n",
       "      <td>Chrome extension</td>\n",
       "      <td>Chrome extensions enable users to customize th...</td>\n",
       "      <td>https://github.com/topics/chrome-extension</td>\n",
       "    </tr>\n",
       "    <tr>\n",
       "      <th>22</th>\n",
       "      <td>Command line interface</td>\n",
       "      <td>A CLI, or command-line interface, is a console...</td>\n",
       "      <td>https://github.com/topics/cli</td>\n",
       "    </tr>\n",
       "    <tr>\n",
       "      <th>23</th>\n",
       "      <td>Clojure</td>\n",
       "      <td>Clojure is a dynamic, general-purpose programm...</td>\n",
       "      <td>https://github.com/topics/clojure</td>\n",
       "    </tr>\n",
       "    <tr>\n",
       "      <th>24</th>\n",
       "      <td>Code quality</td>\n",
       "      <td>Automate your code review with style, quality,...</td>\n",
       "      <td>https://github.com/topics/code-quality</td>\n",
       "    </tr>\n",
       "    <tr>\n",
       "      <th>25</th>\n",
       "      <td>Code review</td>\n",
       "      <td>Ensure your code meets quality standards and s...</td>\n",
       "      <td>https://github.com/topics/code-review</td>\n",
       "    </tr>\n",
       "    <tr>\n",
       "      <th>26</th>\n",
       "      <td>Compiler</td>\n",
       "      <td>Compilers are software that translate higher-l...</td>\n",
       "      <td>https://github.com/topics/compiler</td>\n",
       "    </tr>\n",
       "    <tr>\n",
       "      <th>27</th>\n",
       "      <td>Continuous integration</td>\n",
       "      <td>Automatically build and test your code as you ...</td>\n",
       "      <td>https://github.com/topics/continuous-integration</td>\n",
       "    </tr>\n",
       "    <tr>\n",
       "      <th>28</th>\n",
       "      <td>COVID-19</td>\n",
       "      <td>The coronavirus disease 2019 (COVID-19) is an ...</td>\n",
       "      <td>https://github.com/topics/covid-19</td>\n",
       "    </tr>\n",
       "    <tr>\n",
       "      <th>29</th>\n",
       "      <td>C++</td>\n",
       "      <td>C++ is a general purpose and object-oriented p...</td>\n",
       "      <td>https://github.com/topics/cpp</td>\n",
       "    </tr>\n",
       "  </tbody>\n",
       "</table>\n",
       "</div>"
      ],
      "text/plain": [
       "                     title                                        description  \\\n",
       "0                       3D  3D modeling is the process of virtually develo...   \n",
       "1                     Ajax  Ajax is a technique for creating interactive w...   \n",
       "2                Algorithm  Algorithms are self-contained sequences that c...   \n",
       "3                      Amp  Amp is a non-blocking concurrency library for ...   \n",
       "4                  Android  Android is an operating system built by Google...   \n",
       "5                  Angular  Angular is an open source web application plat...   \n",
       "6                  Ansible  Ansible is a simple and powerful automation en...   \n",
       "7                      API  An API (Application Programming Interface) is ...   \n",
       "8                  Arduino  Arduino is an open source hardware and softwar...   \n",
       "9                  ASP.NET  ASP.NET is a web framework for building modern...   \n",
       "10                    Atom  Atom is a open source text editor built with w...   \n",
       "11           Awesome Lists  An awesome list is a list of awesome things cu...   \n",
       "12     Amazon Web Services  Amazon Web Services provides on-demand cloud c...   \n",
       "13                   Azure  Azure is a cloud computing service created by ...   \n",
       "14                   Babel  Babel is a compiler for writing next generatio...   \n",
       "15                    Bash  Bash is a shell and command language interpret...   \n",
       "16                 Bitcoin  Bitcoin is a cryptocurrency developed by Satos...   \n",
       "17               Bootstrap  Bootstrap is an HTML, CSS, and JavaScript fram...   \n",
       "18                     Bot  A bot is an application that runs automated ta...   \n",
       "19                       C  C is a general purpose programming language th...   \n",
       "20                  Chrome  Chrome is a web browser from the tech company ...   \n",
       "21        Chrome extension  Chrome extensions enable users to customize th...   \n",
       "22  Command line interface  A CLI, or command-line interface, is a console...   \n",
       "23                 Clojure  Clojure is a dynamic, general-purpose programm...   \n",
       "24            Code quality  Automate your code review with style, quality,...   \n",
       "25             Code review  Ensure your code meets quality standards and s...   \n",
       "26                Compiler  Compilers are software that translate higher-l...   \n",
       "27  Continuous integration  Automatically build and test your code as you ...   \n",
       "28                COVID-19  The coronavirus disease 2019 (COVID-19) is an ...   \n",
       "29                     C++  C++ is a general purpose and object-oriented p...   \n",
       "\n",
       "                                                 url  \n",
       "0                       https://github.com/topics/3d  \n",
       "1                     https://github.com/topics/ajax  \n",
       "2                https://github.com/topics/algorithm  \n",
       "3                    https://github.com/topics/amphp  \n",
       "4                  https://github.com/topics/android  \n",
       "5                  https://github.com/topics/angular  \n",
       "6                  https://github.com/topics/ansible  \n",
       "7                      https://github.com/topics/api  \n",
       "8                  https://github.com/topics/arduino  \n",
       "9                   https://github.com/topics/aspnet  \n",
       "10                    https://github.com/topics/atom  \n",
       "11                 https://github.com/topics/awesome  \n",
       "12                     https://github.com/topics/aws  \n",
       "13                   https://github.com/topics/azure  \n",
       "14                   https://github.com/topics/babel  \n",
       "15                    https://github.com/topics/bash  \n",
       "16                 https://github.com/topics/bitcoin  \n",
       "17               https://github.com/topics/bootstrap  \n",
       "18                     https://github.com/topics/bot  \n",
       "19                       https://github.com/topics/c  \n",
       "20                  https://github.com/topics/chrome  \n",
       "21        https://github.com/topics/chrome-extension  \n",
       "22                     https://github.com/topics/cli  \n",
       "23                 https://github.com/topics/clojure  \n",
       "24            https://github.com/topics/code-quality  \n",
       "25             https://github.com/topics/code-review  \n",
       "26                https://github.com/topics/compiler  \n",
       "27  https://github.com/topics/continuous-integration  \n",
       "28                https://github.com/topics/covid-19  \n",
       "29                     https://github.com/topics/cpp  "
      ]
     },
     "execution_count": 15,
     "metadata": {},
     "output_type": "execute_result"
    }
   ],
   "source": [
    "topics_df"
   ]
  },
  {
   "cell_type": "code",
   "execution_count": null,
   "id": "58838a5c",
   "metadata": {},
   "outputs": [],
   "source": [
    "#topics_df.to_csv('Topic_info.csv')"
   ]
  },
  {
   "cell_type": "code",
   "execution_count": 40,
   "id": "b8b54cb8",
   "metadata": {
    "scrolled": true
   },
   "outputs": [
    {
     "name": "stdout",
     "output_type": "stream",
     "text": [
      "['3D' 'Ajax' 'Algorithm' 'Amp' 'Android' 'Angular' 'Ansible' 'API'\n",
      " 'Arduino' 'ASP.NET' 'Atom' 'Awesome Lists' 'Amazon Web Services' 'Azure'\n",
      " 'Babel' 'Bash' 'Bitcoin' 'Bootstrap' 'Bot' 'C' 'Chrome'\n",
      " 'Chrome extension' 'Command line interface' 'Clojure' 'Code quality'\n",
      " 'Code review' 'Compiler' 'Continuous integration' 'COVID-19' 'C++']\n"
     ]
    }
   ],
   "source": [
    "topics_df.title.values"
   ]
  },
  {
   "cell_type": "markdown",
   "id": "ee250aac",
   "metadata": {},
   "source": [
    "# Finding out Details of Top Repos in Each Topics."
   ]
  },
  {
   "cell_type": "code",
   "execution_count": 16,
   "id": "726efdaf",
   "metadata": {},
   "outputs": [],
   "source": [
    "topic_page_url = topic_urls[0]\n",
    "pg_url = requests.get(topic_page_url).text\n",
    "soup2 = BeautifulSoup(pg_url, 'html.parser')"
   ]
  },
  {
   "cell_type": "code",
   "execution_count": 17,
   "id": "70580b42",
   "metadata": {},
   "outputs": [],
   "source": [
    "repo_tags = soup2.find_all('h3', class_='f3 color-fg-muted text-normal lh-condensed')"
   ]
  },
  {
   "cell_type": "code",
   "execution_count": 1,
   "id": "be2d5657",
   "metadata": {},
   "outputs": [],
   "source": [
    "#repo_tags"
   ]
  },
  {
   "cell_type": "code",
   "execution_count": 19,
   "id": "8cddd3b1",
   "metadata": {},
   "outputs": [],
   "source": [
    "a_tags = repo_tags[0].find_all('a')"
   ]
  },
  {
   "cell_type": "markdown",
   "id": "28ba6a03",
   "metadata": {},
   "source": [
    "## url of Repositories."
   ]
  },
  {
   "cell_type": "code",
   "execution_count": 20,
   "id": "72885dfe",
   "metadata": {},
   "outputs": [
    {
     "name": "stdout",
     "output_type": "stream",
     "text": [
      "https://github.com/mrdoob/three.js\n"
     ]
    }
   ],
   "source": [
    "base_url = 'https://github.com'\n",
    "repo_url = base_url + a_tags[1]['href']\n",
    "print(repo_url)"
   ]
  },
  {
   "cell_type": "markdown",
   "id": "ecd25a29",
   "metadata": {},
   "source": [
    "## Star count of Repos"
   ]
  },
  {
   "cell_type": "code",
   "execution_count": 21,
   "id": "305782d1",
   "metadata": {},
   "outputs": [],
   "source": [
    "star_tags = soup2.find_all('span', class_='Counter js-social-count')"
   ]
  },
  {
   "cell_type": "code",
   "execution_count": 22,
   "id": "839bdd05",
   "metadata": {},
   "outputs": [
    {
     "data": {
      "text/plain": [
       "30"
      ]
     },
     "execution_count": 22,
     "metadata": {},
     "output_type": "execute_result"
    }
   ],
   "source": [
    "len(star_tags)"
   ]
  },
  {
   "cell_type": "code",
   "execution_count": 23,
   "id": "7c733201",
   "metadata": {},
   "outputs": [
    {
     "data": {
      "text/plain": [
       "'81.7k'"
      ]
     },
     "execution_count": 23,
     "metadata": {},
     "output_type": "execute_result"
    }
   ],
   "source": [
    "star_tags[0].text.strip()"
   ]
  },
  {
   "cell_type": "code",
   "execution_count": 24,
   "id": "082031cb",
   "metadata": {},
   "outputs": [],
   "source": [
    "def star_count(stars_str):\n",
    "    stars_str = stars_str.strip()\n",
    "    if stars_str[-1] == 'k':\n",
    "        return int(float(stars_str[:-1]) * 1000)\n",
    "    return int(stars_str)"
   ]
  },
  {
   "cell_type": "code",
   "execution_count": 25,
   "id": "0aaf3a9e",
   "metadata": {},
   "outputs": [
    {
     "data": {
      "text/plain": [
       "81700"
      ]
     },
     "execution_count": 25,
     "metadata": {},
     "output_type": "execute_result"
    }
   ],
   "source": [
    "star_count(star_tags[0].text.strip())"
   ]
  },
  {
   "cell_type": "markdown",
   "id": "bdd0cff3",
   "metadata": {},
   "source": [
    "## Defining a Function to find username, repo name, star count, repo url"
   ]
  },
  {
   "cell_type": "code",
   "execution_count": 26,
   "id": "be570471",
   "metadata": {},
   "outputs": [],
   "source": [
    "def get_repo_info(repo_tags, star_tag):\n",
    "# returns all the required info about a repository\n",
    "    a_tags = repo_tags.find_all('a')\n",
    "    username = a_tags[0].text.strip()\n",
    "    repo_name = a_tags[1].text.strip()\n",
    "    repo_url =  base_url + a_tags[1]['href']\n",
    "    stars = star_count(star_tag.text.strip())\n",
    "    return username, repo_name, stars, repo_url"
   ]
  },
  {
   "cell_type": "code",
   "execution_count": 27,
   "id": "e1c0953f",
   "metadata": {},
   "outputs": [
    {
     "data": {
      "text/plain": [
       "('mrdoob', 'three.js', 81700, 'https://github.com/mrdoob/three.js')"
      ]
     },
     "execution_count": 27,
     "metadata": {},
     "output_type": "execute_result"
    }
   ],
   "source": [
    "get_repo_info(repo_tags[0], star_tags[0])"
   ]
  },
  {
   "cell_type": "markdown",
   "id": "8837aabf",
   "metadata": {},
   "source": [
    "## Putting the result into a Dictionary"
   ]
  },
  {
   "cell_type": "code",
   "execution_count": 28,
   "id": "95142c1c",
   "metadata": {},
   "outputs": [],
   "source": [
    "topic_repos_dict = {\n",
    "    'username': [],\n",
    "    'repo_name': [],\n",
    "    'stars': [],\n",
    "    'repo_url': []\n",
    "}\n",
    "\n",
    "\n",
    "for i in range(len(repo_tags)):\n",
    "    repo_info = get_repo_info(repo_tags[i], star_tags[i])\n",
    "    topic_repos_dict['username'].append(repo_info[0])\n",
    "    topic_repos_dict['repo_name'].append(repo_info[1])\n",
    "    topic_repos_dict['stars'].append(repo_info[2])\n",
    "    topic_repos_dict['repo_url'].append(repo_info[3])"
   ]
  },
  {
   "cell_type": "code",
   "execution_count": 29,
   "id": "76821a78",
   "metadata": {},
   "outputs": [
    {
     "name": "stdout",
     "output_type": "stream",
     "text": [
      "['mrdoob', 'libgdx', 'pmndrs', 'BabylonJS', 'aframevr', 'ssloy', 'lettier', 'FreeCAD', 'metafizzy', 'CesiumGS', 'timzhang642', 'a1studmuffin', 'isl-org', 'blender', 'domlysz', 'spritejs', 'openscad', 'jagenjo', 'tensorspace-team', 'YadiraF', 'AaronJackson', 'google', 'ssloy', 'mosra', 'FyroxEngine', 'gfxfundamentals', 'tengbao', 'cleardusk', 'jasonlong', 'cnr-isti-vclab']\n"
     ]
    }
   ],
   "source": [
    "print(topic_repos_dict['username'])"
   ]
  },
  {
   "cell_type": "code",
   "execution_count": 30,
   "id": "9182f33d",
   "metadata": {},
   "outputs": [
    {
     "name": "stdout",
     "output_type": "stream",
     "text": [
      "['three.js', 'libgdx', 'react-three-fiber', 'Babylon.js', 'aframe', 'tinyrenderer', '3d-game-shaders-for-beginners', 'FreeCAD', 'zdog', 'cesium', '3D-Machine-Learning', 'SpaceshipGenerator', 'Open3D', 'blender', 'BlenderGIS', 'spritejs', 'openscad', 'webglstudio.js', 'tensorspace', 'PRNet', 'vrn', 'model-viewer', 'tinyraytracer', 'magnum', 'Fyrox', 'webgl-fundamentals', 'vanta', '3DDFA', 'isometric-contributions', 'meshlab']\n"
     ]
    }
   ],
   "source": [
    "print(topic_repos_dict['repo_name'])"
   ]
  },
  {
   "cell_type": "code",
   "execution_count": 31,
   "id": "1c3f99d7",
   "metadata": {},
   "outputs": [
    {
     "name": "stdout",
     "output_type": "stream",
     "text": [
      "[81700, 20000, 17800, 16700, 14100, 13600, 12800, 11300, 9100, 8600, 7900, 7100, 6700, 5500, 5200, 4900, 4800, 4600, 4600, 4600, 4400, 4300, 4200, 4000, 3600, 3600, 3500, 3200, 3200, 2900]\n"
     ]
    }
   ],
   "source": [
    "print(topic_repos_dict['stars'])"
   ]
  },
  {
   "cell_type": "markdown",
   "id": "b4f071ad",
   "metadata": {},
   "source": [
    "## Defining a function to Get a Pandas Dataframe with Repository info"
   ]
  },
  {
   "cell_type": "code",
   "execution_count": 32,
   "id": "15dacf15",
   "metadata": {},
   "outputs": [],
   "source": [
    "def get_topic_page(topic_url):\n",
    "    # Download the page\n",
    "    pg_url = requests.get(topic_url)\n",
    "    # Check successful response\n",
    "    if pg_url.status_code != 200:\n",
    "        raise Exception('Failed to load page {}'.format(topic_url))\n",
    "    # Parse using Beautiful soup\n",
    "    soup3 = BeautifulSoup(pg_url.text, 'html.parser')\n",
    "    return soup3\n",
    "\n",
    "def get_repo_info(repo_tags, star_tag):\n",
    "# returns all the required info about a repository\n",
    "    a_tags = repo_tags.find_all('a')\n",
    "    username = a_tags[0].text.strip()\n",
    "    repo_name = a_tags[1].text.strip()\n",
    "    repo_url =  base_url + a_tags[1]['href']\n",
    "    stars = star_count(star_tag.text.strip())\n",
    "    return username, repo_name, stars, repo_url\n",
    "\n",
    "def get_topic_repos(soup3):\n",
    "    # Get the h3 tags containing repo title, repo URL and username\n",
    "    h3_selection_class = 'f3 color-fg-muted text-normal lh-condensed'\n",
    "    repo_tags = soup3.find_all('h3', class_= h3_selection_class)\n",
    "    # Get star tags\n",
    "    star_tags = soup3.find_all('span', class_='Counter js-social-count')\n",
    "    \n",
    "    topic_repos_dict = { 'username': [], 'repo_name': [], 'stars': [],'repo_url': []}\n",
    "\n",
    "    # Get repo info\n",
    "    for i in range(len(repo_tags)):\n",
    "        repo_info = get_repo_info(repo_tags[i], star_tags[i])\n",
    "        topic_repos_dict['username'].append(repo_info[0])\n",
    "        topic_repos_dict['repo_name'].append(repo_info[1])\n",
    "        topic_repos_dict['stars'].append(repo_info[2])\n",
    "        topic_repos_dict['repo_url'].append(repo_info[3])\n",
    "        \n",
    "    return pd.DataFrame(topic_repos_dict)"
   ]
  },
  {
   "cell_type": "code",
   "execution_count": 2,
   "id": "59f97cdb",
   "metadata": {},
   "outputs": [],
   "source": [
    "#get_topic_page('https://github.com/topics/ansible')"
   ]
  },
  {
   "cell_type": "code",
   "execution_count": 34,
   "id": "0ff86605",
   "metadata": {},
   "outputs": [
    {
     "data": {
      "text/html": [
       "<div>\n",
       "<style scoped>\n",
       "    .dataframe tbody tr th:only-of-type {\n",
       "        vertical-align: middle;\n",
       "    }\n",
       "\n",
       "    .dataframe tbody tr th {\n",
       "        vertical-align: top;\n",
       "    }\n",
       "\n",
       "    .dataframe thead th {\n",
       "        text-align: right;\n",
       "    }\n",
       "</style>\n",
       "<table border=\"1\" class=\"dataframe\">\n",
       "  <thead>\n",
       "    <tr style=\"text-align: right;\">\n",
       "      <th></th>\n",
       "      <th>username</th>\n",
       "      <th>repo_name</th>\n",
       "      <th>stars</th>\n",
       "      <th>repo_url</th>\n",
       "    </tr>\n",
       "  </thead>\n",
       "  <tbody>\n",
       "    <tr>\n",
       "      <th>0</th>\n",
       "      <td>ansible</td>\n",
       "      <td>ansible</td>\n",
       "      <td>53000</td>\n",
       "      <td>https://github.com/ansible/ansible</td>\n",
       "    </tr>\n",
       "    <tr>\n",
       "      <th>1</th>\n",
       "      <td>trailofbits</td>\n",
       "      <td>algo</td>\n",
       "      <td>25400</td>\n",
       "      <td>https://github.com/trailofbits/algo</td>\n",
       "    </tr>\n",
       "    <tr>\n",
       "      <th>2</th>\n",
       "      <td>bregman-arie</td>\n",
       "      <td>devops-exercises</td>\n",
       "      <td>23600</td>\n",
       "      <td>https://github.com/bregman-arie/devops-exercises</td>\n",
       "    </tr>\n",
       "    <tr>\n",
       "      <th>3</th>\n",
       "      <td>StreisandEffect</td>\n",
       "      <td>streisand</td>\n",
       "      <td>22800</td>\n",
       "      <td>https://github.com/StreisandEffect/streisand</td>\n",
       "    </tr>\n",
       "    <tr>\n",
       "      <th>4</th>\n",
       "      <td>kubernetes-sigs</td>\n",
       "      <td>kubespray</td>\n",
       "      <td>12200</td>\n",
       "      <td>https://github.com/kubernetes-sigs/kubespray</td>\n",
       "    </tr>\n",
       "    <tr>\n",
       "      <th>5</th>\n",
       "      <td>MichaelCade</td>\n",
       "      <td>90DaysOfDevOps</td>\n",
       "      <td>11800</td>\n",
       "      <td>https://github.com/MichaelCade/90DaysOfDevOps</td>\n",
       "    </tr>\n",
       "    <tr>\n",
       "      <th>6</th>\n",
       "      <td>ansible</td>\n",
       "      <td>awx</td>\n",
       "      <td>10900</td>\n",
       "      <td>https://github.com/ansible/awx</td>\n",
       "    </tr>\n",
       "    <tr>\n",
       "      <th>7</th>\n",
       "      <td>easzlab</td>\n",
       "      <td>kubeasz</td>\n",
       "      <td>8000</td>\n",
       "      <td>https://github.com/easzlab/kubeasz</td>\n",
       "    </tr>\n",
       "    <tr>\n",
       "      <th>8</th>\n",
       "      <td>geerlingguy</td>\n",
       "      <td>ansible-for-devops</td>\n",
       "      <td>5700</td>\n",
       "      <td>https://github.com/geerlingguy/ansible-for-devops</td>\n",
       "    </tr>\n",
       "    <tr>\n",
       "      <th>9</th>\n",
       "      <td>khuedoan</td>\n",
       "      <td>homelab</td>\n",
       "      <td>5700</td>\n",
       "      <td>https://github.com/khuedoan/homelab</td>\n",
       "    </tr>\n",
       "    <tr>\n",
       "      <th>10</th>\n",
       "      <td>curlconverter</td>\n",
       "      <td>curlconverter</td>\n",
       "      <td>5500</td>\n",
       "      <td>https://github.com/curlconverter/curlconverter</td>\n",
       "    </tr>\n",
       "    <tr>\n",
       "      <th>11</th>\n",
       "      <td>ansible-semaphore</td>\n",
       "      <td>semaphore</td>\n",
       "      <td>4900</td>\n",
       "      <td>https://github.com/ansible-semaphore/semaphore</td>\n",
       "    </tr>\n",
       "    <tr>\n",
       "      <th>12</th>\n",
       "      <td>Tikam02</td>\n",
       "      <td>DevOps-Guide</td>\n",
       "      <td>4700</td>\n",
       "      <td>https://github.com/Tikam02/DevOps-Guide</td>\n",
       "    </tr>\n",
       "    <tr>\n",
       "      <th>13</th>\n",
       "      <td>rundeck</td>\n",
       "      <td>rundeck</td>\n",
       "      <td>4600</td>\n",
       "      <td>https://github.com/rundeck/rundeck</td>\n",
       "    </tr>\n",
       "    <tr>\n",
       "      <th>14</th>\n",
       "      <td>geerlingguy</td>\n",
       "      <td>mac-dev-playbook</td>\n",
       "      <td>4600</td>\n",
       "      <td>https://github.com/geerlingguy/mac-dev-playbook</td>\n",
       "    </tr>\n",
       "    <tr>\n",
       "      <th>15</th>\n",
       "      <td>KubeOperator</td>\n",
       "      <td>KubeOperator</td>\n",
       "      <td>4300</td>\n",
       "      <td>https://github.com/KubeOperator/KubeOperator</td>\n",
       "    </tr>\n",
       "    <tr>\n",
       "      <th>16</th>\n",
       "      <td>clong</td>\n",
       "      <td>DetectionLab</td>\n",
       "      <td>3600</td>\n",
       "      <td>https://github.com/clong/DetectionLab</td>\n",
       "    </tr>\n",
       "    <tr>\n",
       "      <th>17</th>\n",
       "      <td>ansible-community</td>\n",
       "      <td>molecule</td>\n",
       "      <td>3300</td>\n",
       "      <td>https://github.com/ansible-community/molecule</td>\n",
       "    </tr>\n",
       "    <tr>\n",
       "      <th>18</th>\n",
       "      <td>opendevops-cn</td>\n",
       "      <td>opendevops</td>\n",
       "      <td>3100</td>\n",
       "      <td>https://github.com/opendevops-cn/opendevops</td>\n",
       "    </tr>\n",
       "    <tr>\n",
       "      <th>19</th>\n",
       "      <td>werf</td>\n",
       "      <td>werf</td>\n",
       "      <td>3100</td>\n",
       "      <td>https://github.com/werf/werf</td>\n",
       "    </tr>\n",
       "    <tr>\n",
       "      <th>20</th>\n",
       "      <td>netbootxyz</td>\n",
       "      <td>netboot.xyz</td>\n",
       "      <td>3000</td>\n",
       "      <td>https://github.com/netbootxyz/netboot.xyz</td>\n",
       "    </tr>\n",
       "    <tr>\n",
       "      <th>21</th>\n",
       "      <td>welliamcao</td>\n",
       "      <td>OpsManage</td>\n",
       "      <td>2900</td>\n",
       "      <td>https://github.com/welliamcao/OpsManage</td>\n",
       "    </tr>\n",
       "    <tr>\n",
       "      <th>22</th>\n",
       "      <td>ansible</td>\n",
       "      <td>ansible-lint</td>\n",
       "      <td>2800</td>\n",
       "      <td>https://github.com/ansible/ansible-lint</td>\n",
       "    </tr>\n",
       "    <tr>\n",
       "      <th>23</th>\n",
       "      <td>dev-sec</td>\n",
       "      <td>ansible-collection-hardening</td>\n",
       "      <td>2700</td>\n",
       "      <td>https://github.com/dev-sec/ansible-collection-...</td>\n",
       "    </tr>\n",
       "    <tr>\n",
       "      <th>24</th>\n",
       "      <td>alixaxel</td>\n",
       "      <td>chrome-aws-lambda</td>\n",
       "      <td>2700</td>\n",
       "      <td>https://github.com/alixaxel/chrome-aws-lambda</td>\n",
       "    </tr>\n",
       "    <tr>\n",
       "      <th>25</th>\n",
       "      <td>litmuschaos</td>\n",
       "      <td>litmus</td>\n",
       "      <td>2700</td>\n",
       "      <td>https://github.com/litmuschaos/litmus</td>\n",
       "    </tr>\n",
       "    <tr>\n",
       "      <th>26</th>\n",
       "      <td>roots</td>\n",
       "      <td>trellis</td>\n",
       "      <td>2300</td>\n",
       "      <td>https://github.com/roots/trellis</td>\n",
       "    </tr>\n",
       "    <tr>\n",
       "      <th>27</th>\n",
       "      <td>ansistrano</td>\n",
       "      <td>deploy</td>\n",
       "      <td>2200</td>\n",
       "      <td>https://github.com/ansistrano/deploy</td>\n",
       "    </tr>\n",
       "    <tr>\n",
       "      <th>28</th>\n",
       "      <td>openshift</td>\n",
       "      <td>openshift-ansible</td>\n",
       "      <td>2100</td>\n",
       "      <td>https://github.com/openshift/openshift-ansible</td>\n",
       "    </tr>\n",
       "    <tr>\n",
       "      <th>29</th>\n",
       "      <td>fboender</td>\n",
       "      <td>ansible-cmdb</td>\n",
       "      <td>2100</td>\n",
       "      <td>https://github.com/fboender/ansible-cmdb</td>\n",
       "    </tr>\n",
       "  </tbody>\n",
       "</table>\n",
       "</div>"
      ],
      "text/plain": [
       "             username                     repo_name  stars  \\\n",
       "0             ansible                       ansible  53000   \n",
       "1         trailofbits                          algo  25400   \n",
       "2        bregman-arie              devops-exercises  23600   \n",
       "3     StreisandEffect                     streisand  22800   \n",
       "4     kubernetes-sigs                     kubespray  12200   \n",
       "5         MichaelCade                90DaysOfDevOps  11800   \n",
       "6             ansible                           awx  10900   \n",
       "7             easzlab                       kubeasz   8000   \n",
       "8         geerlingguy            ansible-for-devops   5700   \n",
       "9            khuedoan                       homelab   5700   \n",
       "10      curlconverter                 curlconverter   5500   \n",
       "11  ansible-semaphore                     semaphore   4900   \n",
       "12            Tikam02                  DevOps-Guide   4700   \n",
       "13            rundeck                       rundeck   4600   \n",
       "14        geerlingguy              mac-dev-playbook   4600   \n",
       "15       KubeOperator                  KubeOperator   4300   \n",
       "16              clong                  DetectionLab   3600   \n",
       "17  ansible-community                      molecule   3300   \n",
       "18      opendevops-cn                    opendevops   3100   \n",
       "19               werf                          werf   3100   \n",
       "20         netbootxyz                   netboot.xyz   3000   \n",
       "21         welliamcao                     OpsManage   2900   \n",
       "22            ansible                  ansible-lint   2800   \n",
       "23            dev-sec  ansible-collection-hardening   2700   \n",
       "24           alixaxel             chrome-aws-lambda   2700   \n",
       "25        litmuschaos                        litmus   2700   \n",
       "26              roots                       trellis   2300   \n",
       "27         ansistrano                        deploy   2200   \n",
       "28          openshift             openshift-ansible   2100   \n",
       "29           fboender                  ansible-cmdb   2100   \n",
       "\n",
       "                                             repo_url  \n",
       "0                  https://github.com/ansible/ansible  \n",
       "1                 https://github.com/trailofbits/algo  \n",
       "2    https://github.com/bregman-arie/devops-exercises  \n",
       "3        https://github.com/StreisandEffect/streisand  \n",
       "4        https://github.com/kubernetes-sigs/kubespray  \n",
       "5       https://github.com/MichaelCade/90DaysOfDevOps  \n",
       "6                      https://github.com/ansible/awx  \n",
       "7                  https://github.com/easzlab/kubeasz  \n",
       "8   https://github.com/geerlingguy/ansible-for-devops  \n",
       "9                 https://github.com/khuedoan/homelab  \n",
       "10     https://github.com/curlconverter/curlconverter  \n",
       "11     https://github.com/ansible-semaphore/semaphore  \n",
       "12            https://github.com/Tikam02/DevOps-Guide  \n",
       "13                 https://github.com/rundeck/rundeck  \n",
       "14    https://github.com/geerlingguy/mac-dev-playbook  \n",
       "15       https://github.com/KubeOperator/KubeOperator  \n",
       "16              https://github.com/clong/DetectionLab  \n",
       "17      https://github.com/ansible-community/molecule  \n",
       "18        https://github.com/opendevops-cn/opendevops  \n",
       "19                       https://github.com/werf/werf  \n",
       "20          https://github.com/netbootxyz/netboot.xyz  \n",
       "21            https://github.com/welliamcao/OpsManage  \n",
       "22            https://github.com/ansible/ansible-lint  \n",
       "23  https://github.com/dev-sec/ansible-collection-...  \n",
       "24      https://github.com/alixaxel/chrome-aws-lambda  \n",
       "25              https://github.com/litmuschaos/litmus  \n",
       "26                   https://github.com/roots/trellis  \n",
       "27               https://github.com/ansistrano/deploy  \n",
       "28     https://github.com/openshift/openshift-ansible  \n",
       "29           https://github.com/fboender/ansible-cmdb  "
      ]
     },
     "execution_count": 34,
     "metadata": {},
     "output_type": "execute_result"
    }
   ],
   "source": [
    "get_topic_repos(get_topic_page('https://github.com/topics/ansible'))"
   ]
  },
  {
   "cell_type": "markdown",
   "id": "0c378615",
   "metadata": {},
   "source": [
    "## Finding out Name of Titles from Dataframe."
   ]
  },
  {
   "cell_type": "code",
   "execution_count": 42,
   "id": "5e310463",
   "metadata": {},
   "outputs": [
    {
     "data": {
      "text/plain": [
       "array(['3D', 'Ajax', 'Algorithm', 'Amp', 'Android', 'Angular', 'Ansible',\n",
       "       'API', 'Arduino', 'ASP.NET', 'Atom', 'Awesome Lists',\n",
       "       'Amazon Web Services', 'Azure', 'Babel', 'Bash', 'Bitcoin',\n",
       "       'Bootstrap', 'Bot', 'C', 'Chrome', 'Chrome extension',\n",
       "       'Command line interface', 'Clojure', 'Code quality', 'Code review',\n",
       "       'Compiler', 'Continuous integration', 'COVID-19', 'C++'],\n",
       "      dtype=object)"
      ]
     },
     "execution_count": 42,
     "metadata": {},
     "output_type": "execute_result"
    }
   ],
   "source": [
    "topics_df.title.values"
   ]
  },
  {
   "cell_type": "markdown",
   "id": "700f45e9",
   "metadata": {},
   "source": [
    "## Finding The url from the Topic selected"
   ]
  },
  {
   "cell_type": "code",
   "execution_count": 44,
   "id": "a888b210",
   "metadata": {},
   "outputs": [],
   "source": [
    "topic_selected = '3D'"
   ]
  },
  {
   "cell_type": "code",
   "execution_count": 52,
   "id": "e9e36176",
   "metadata": {},
   "outputs": [],
   "source": [
    "topic_arr = topics_df.loc[topics_df['title'] == topic_selected].url.values"
   ]
  },
  {
   "cell_type": "code",
   "execution_count": 54,
   "id": "b9318ef1",
   "metadata": {},
   "outputs": [
    {
     "data": {
      "text/plain": [
       "'https://github.com/topics/3d'"
      ]
     },
     "execution_count": 54,
     "metadata": {},
     "output_type": "execute_result"
    }
   ],
   "source": [
    "topic_arr[0]"
   ]
  },
  {
   "cell_type": "code",
   "execution_count": null,
   "id": "ba01a3b4",
   "metadata": {},
   "outputs": [],
   "source": []
  }
 ],
 "metadata": {
  "kernelspec": {
   "display_name": "Python 3 (ipykernel)",
   "language": "python",
   "name": "python3"
  },
  "language_info": {
   "codemirror_mode": {
    "name": "ipython",
    "version": 3
   },
   "file_extension": ".py",
   "mimetype": "text/x-python",
   "name": "python",
   "nbconvert_exporter": "python",
   "pygments_lexer": "ipython3",
   "version": "3.8.8"
  }
 },
 "nbformat": 4,
 "nbformat_minor": 5
}
